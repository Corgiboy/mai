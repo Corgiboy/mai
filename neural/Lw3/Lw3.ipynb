{
 "cells": [
  {
   "cell_type": "code",
   "execution_count": 1,
   "metadata": {},
   "outputs": [],
   "source": [
    "import matplotlib.pyplot as plt\n",
    "import numpy as np\n",
    "import pandas as pd\n",
    "\n",
    "from sklearn.model_selection import train_test_split\n",
    "\n",
    "%matplotlib inline"
   ]
  },
  {
   "cell_type": "code",
   "execution_count": 2,
   "metadata": {},
   "outputs": [],
   "source": [
    "a1 = 0.3\n",
    "b1 = 0.3\n",
    "a2 = 0.7\n",
    "b2 = 0.7\n",
    "a3 = 1\n",
    "b3 = 1"
   ]
  },
  {
   "cell_type": "code",
   "execution_count": 3,
   "metadata": {},
   "outputs": [],
   "source": [
    "step = 0.025\n",
    "t = np.linspace(0, 2*np.pi, int(2*np.pi/step), endpoint=True)"
   ]
  },
  {
   "cell_type": "code",
   "execution_count": 4,
   "metadata": {},
   "outputs": [],
   "source": [
    "def f(a, t):\n",
    "    return a*np.cos(t)\n",
    "\n",
    "def g(b, t):\n",
    "    return b*np.sin(t)"
   ]
  },
  {
   "cell_type": "code",
   "execution_count": 5,
   "metadata": {},
   "outputs": [],
   "source": [
    "x1 = f(a1, t)\n",
    "y1 = g(b1, t)\n",
    "x2= f(a2, t)\n",
    "y2= g(b2, t)\n",
    "x3= f(a3, t)\n",
    "y3= g(b3, t)"
   ]
  },
  {
   "cell_type": "code",
   "execution_count": 6,
   "metadata": {},
   "outputs": [
    {
     "data": {
      "image/png": "[encoded data removed]",
      "text/plain": [
       "<Figure size 432x288 with 1 Axes>"
      ]
     },
     "metadata": {
      "needs_background": "light"
     },
     "output_type": "display_data"
    }
   ],
   "source": [
    "plt.plot(x1, y1, '.r')\n",
    "plt.plot(x2, y2, '.b')\n",
    "plt.plot(x3, y3, '.g')\n",
    "plt.show()"
   ]
  },
  {
   "cell_type": "code",
   "execution_count": 38,
   "metadata": {},
   "outputs": [],
   "source": [
    "df1 = pd.DataFrame({'x' : x1, 'y' : y1, 'target' : 0})\n",
    "df2 = pd.DataFrame({'x' : x2, 'y' : y2, 'target' : 1})\n",
    "df3 = pd.DataFrame({'x' : x3, 'y' : y3, 'target' : 2})"
   ]
  },
  {
   "cell_type": "code",
   "execution_count": 56,
   "metadata": {},
   "outputs": [],
   "source": [
    "def split_df(df):\n",
    "    x_train, x_test = train_test_split(df, test_size=0.3, shuffle=True, random_state=21)\n",
    "    x_valid, x_test = train_test_split(x_test, test_size=0.3, shuffle=True, random_state=14)\n",
    "    return x_train, x_valid, x_test"
   ]
  },
  {
   "cell_type": "code",
   "execution_count": 57,
   "metadata": {},
   "outputs": [],
   "source": [
    "from keras.models import Sequential\n",
    "from keras.layers import Dense"
   ]
  },
  {
   "cell_type": "code",
   "execution_count": 336,
   "metadata": {},
   "outputs": [],
   "source": [
    "model = Sequential()\n",
    "model.add(Dense(20, input_dim=2, activation='tanh'))\n",
    "model.add(Dense(3, activation='tanh'))\n",
    "model.compile(loss='mean_squared_error', optimizer='sgd', metrics=['accuracy'])"
   ]
  },
  {
   "cell_type": "code",
   "execution_count": 337,
   "metadata": {},
   "outputs": [],
   "source": [
    "train = []\n",
    "valid = []\n",
    "test = []\n",
    "\n",
    "for df in (df1, df2 ,df3):\n",
    "    tr, v, te = split_df(df)\n",
    "    train.append(tr)\n",
    "    valid.append(v)\n",
    "    test.append(te)\n",
    "train = pd.concat(train)\n",
    "valid = pd.concat(valid)\n",
    "test = pd.concat(test)"
   ]
  },
  {
   "cell_type": "code",
   "execution_count": 338,
   "metadata": {},
   "outputs": [
    {
     "name": "stdout",
     "output_type": "stream",
     "text": [
      "Epoch 1/100\n",
      "525/525 [==============================] - 1s 2ms/step - loss: 0.3749 - acc: 0.3314\n",
      "Epoch 2/100\n",
      "525/525 [==============================] - 0s 24us/step - loss: 0.3303 - acc: 0.3276\n",
      "Epoch 3/100\n",
      "525/525 [==============================] - 0s 28us/step - loss: 0.2996 - acc: 0.3200\n",
      "Epoch 4/100\n",
      "525/525 [==============================] - 0s 28us/step - loss: 0.2786 - acc: 0.3124\n",
      "Epoch 5/100\n",
      "525/525 [==============================] - 0s 30us/step - loss: 0.2642 - acc: 0.3143\n",
      "Epoch 6/100\n",
      "525/525 [==============================] - 0s 26us/step - loss: 0.2541 - acc: 0.3162\n",
      "Epoch 7/100\n",
      "525/525 [==============================] - 0s 28us/step - loss: 0.2472 - acc: 0.3181\n",
      "Epoch 8/100\n",
      "525/525 [==============================] - 0s 30us/step - loss: 0.2424 - acc: 0.3181\n",
      "Epoch 9/100\n",
      "525/525 [==============================] - 0s 27us/step - loss: 0.2388 - acc: 0.3143\n",
      "Epoch 10/100\n",
      "525/525 [==============================] - 0s 28us/step - loss: 0.2362 - acc: 0.3219\n",
      "Epoch 11/100\n",
      "525/525 [==============================] - 0s 27us/step - loss: 0.2341 - acc: 0.3162\n",
      "Epoch 12/100\n",
      "525/525 [==============================] - 0s 27us/step - loss: 0.2324 - acc: 0.3314\n",
      "Epoch 13/100\n",
      "525/525 [==============================] - 0s 28us/step - loss: 0.2309 - acc: 0.3238\n",
      "Epoch 14/100\n",
      "525/525 [==============================] - 0s 28us/step - loss: 0.2297 - acc: 0.3352\n",
      "Epoch 15/100\n",
      "525/525 [==============================] - 0s 33us/step - loss: 0.2287 - acc: 0.3295\n",
      "Epoch 16/100\n",
      "525/525 [==============================] - 0s 27us/step - loss: 0.2278 - acc: 0.3429\n",
      "Epoch 17/100\n",
      "525/525 [==============================] - 0s 28us/step - loss: 0.2271 - acc: 0.3295\n",
      "Epoch 18/100\n",
      "525/525 [==============================] - 0s 29us/step - loss: 0.2263 - acc: 0.3429\n",
      "Epoch 19/100\n",
      "525/525 [==============================] - 0s 30us/step - loss: 0.2259 - acc: 0.3714\n",
      "Epoch 20/100\n",
      "525/525 [==============================] - 0s 27us/step - loss: 0.2253 - acc: 0.3581\n",
      "Epoch 21/100\n",
      "525/525 [==============================] - 0s 32us/step - loss: 0.2249 - acc: 0.3695\n",
      "Epoch 22/100\n",
      "525/525 [==============================] - 0s 26us/step - loss: 0.2246 - acc: 0.3638\n",
      "Epoch 23/100\n",
      "525/525 [==============================] - 0s 30us/step - loss: 0.2241 - acc: 0.3676\n",
      "Epoch 24/100\n",
      "525/525 [==============================] - 0s 26us/step - loss: 0.2239 - acc: 0.3676\n",
      "Epoch 25/100\n",
      "525/525 [==============================] - 0s 25us/step - loss: 0.2236 - acc: 0.3657\n",
      "Epoch 26/100\n",
      "525/525 [==============================] - 0s 28us/step - loss: 0.2233 - acc: 0.3695\n",
      "Epoch 27/100\n",
      "525/525 [==============================] - 0s 26us/step - loss: 0.2230 - acc: 0.3657\n",
      "Epoch 28/100\n",
      "525/525 [==============================] - 0s 31us/step - loss: 0.2228 - acc: 0.3695\n",
      "Epoch 29/100\n",
      "525/525 [==============================] - 0s 29us/step - loss: 0.2227 - acc: 0.3771\n",
      "Epoch 30/100\n",
      "525/525 [==============================] - 0s 30us/step - loss: 0.2225 - acc: 0.3619\n",
      "Epoch 31/100\n",
      "525/525 [==============================] - 0s 30us/step - loss: 0.2224 - acc: 0.3810\n",
      "Epoch 32/100\n",
      "525/525 [==============================] - 0s 30us/step - loss: 0.2222 - acc: 0.3771\n",
      "Epoch 33/100\n",
      "525/525 [==============================] - 0s 27us/step - loss: 0.2221 - acc: 0.3810\n",
      "Epoch 34/100\n",
      "525/525 [==============================] - 0s 30us/step - loss: 0.2220 - acc: 0.3733\n",
      "Epoch 35/100\n",
      "525/525 [==============================] - 0s 30us/step - loss: 0.2219 - acc: 0.3695\n",
      "Epoch 36/100\n",
      "525/525 [==============================] - 0s 29us/step - loss: 0.2219 - acc: 0.3810\n",
      "Epoch 37/100\n",
      "525/525 [==============================] - 0s 30us/step - loss: 0.2217 - acc: 0.3676\n",
      "Epoch 38/100\n",
      "525/525 [==============================] - 0s 29us/step - loss: 0.2217 - acc: 0.3676\n",
      "Epoch 39/100\n",
      "525/525 [==============================] - 0s 28us/step - loss: 0.2216 - acc: 0.3695\n",
      "Epoch 40/100\n",
      "525/525 [==============================] - 0s 29us/step - loss: 0.2215 - acc: 0.3962\n",
      "Epoch 41/100\n",
      "525/525 [==============================] - 0s 28us/step - loss: 0.2214 - acc: 0.3733\n",
      "Epoch 42/100\n",
      "525/525 [==============================] - 0s 26us/step - loss: 0.2214 - acc: 0.4057\n",
      "Epoch 43/100\n",
      "525/525 [==============================] - 0s 30us/step - loss: 0.2213 - acc: 0.3638\n",
      "Epoch 44/100\n",
      "525/525 [==============================] - 0s 31us/step - loss: 0.2213 - acc: 0.3981\n",
      "Epoch 45/100\n",
      "525/525 [==============================] - 0s 28us/step - loss: 0.2213 - acc: 0.3886\n",
      "Epoch 46/100\n",
      "525/525 [==============================] - 0s 31us/step - loss: 0.2212 - acc: 0.3676\n",
      "Epoch 47/100\n",
      "525/525 [==============================] - 0s 31us/step - loss: 0.2211 - acc: 0.3886\n",
      "Epoch 48/100\n",
      "525/525 [==============================] - 0s 28us/step - loss: 0.2211 - acc: 0.3867\n",
      "Epoch 49/100\n",
      "525/525 [==============================] - 0s 27us/step - loss: 0.2211 - acc: 0.3924\n",
      "Epoch 50/100\n",
      "525/525 [==============================] - 0s 31us/step - loss: 0.2210 - acc: 0.4152\n",
      "Epoch 51/100\n",
      "525/525 [==============================] - 0s 31us/step - loss: 0.2209 - acc: 0.3924\n",
      "Epoch 52/100\n",
      "525/525 [==============================] - 0s 28us/step - loss: 0.2209 - acc: 0.3886\n",
      "Epoch 53/100\n",
      "525/525 [==============================] - 0s 27us/step - loss: 0.2208 - acc: 0.3752\n",
      "Epoch 54/100\n",
      "525/525 [==============================] - 0s 26us/step - loss: 0.2208 - acc: 0.3752\n",
      "Epoch 55/100\n",
      "525/525 [==============================] - 0s 29us/step - loss: 0.2208 - acc: 0.4019\n",
      "Epoch 56/100\n",
      "525/525 [==============================] - 0s 25us/step - loss: 0.2207 - acc: 0.3905\n",
      "Epoch 57/100\n",
      "525/525 [==============================] - 0s 23us/step - loss: 0.2207 - acc: 0.3562\n",
      "Epoch 58/100\n",
      "525/525 [==============================] - 0s 27us/step - loss: 0.2207 - acc: 0.3981\n",
      "Epoch 59/100\n",
      "525/525 [==============================] - 0s 29us/step - loss: 0.2206 - acc: 0.4095\n",
      "Epoch 60/100\n",
      "525/525 [==============================] - 0s 25us/step - loss: 0.2206 - acc: 0.4495\n",
      "Epoch 61/100\n",
      "525/525 [==============================] - 0s 28us/step - loss: 0.2205 - acc: 0.3943\n",
      "Epoch 62/100\n",
      "525/525 [==============================] - 0s 24us/step - loss: 0.2205 - acc: 0.3638\n",
      "Epoch 63/100\n",
      "525/525 [==============================] - 0s 26us/step - loss: 0.2205 - acc: 0.3848\n",
      "Epoch 64/100\n",
      "525/525 [==============================] - 0s 30us/step - loss: 0.2205 - acc: 0.4210\n",
      "Epoch 65/100\n",
      "525/525 [==============================] - 0s 24us/step - loss: 0.2204 - acc: 0.4305\n",
      "Epoch 66/100\n",
      "525/525 [==============================] - 0s 25us/step - loss: 0.2204 - acc: 0.3790\n",
      "Epoch 67/100\n",
      "525/525 [==============================] - 0s 29us/step - loss: 0.2203 - acc: 0.4648\n",
      "Epoch 68/100\n",
      "525/525 [==============================] - 0s 26us/step - loss: 0.2203 - acc: 0.4933\n",
      "Epoch 69/100\n",
      "525/525 [==============================] - 0s 24us/step - loss: 0.2203 - acc: 0.4343\n",
      "Epoch 70/100\n",
      "525/525 [==============================] - 0s 22us/step - loss: 0.2202 - acc: 0.5448\n",
      "Epoch 71/100\n",
      "525/525 [==============================] - 0s 23us/step - loss: 0.2202 - acc: 0.4686\n",
      "Epoch 72/100\n",
      "525/525 [==============================] - 0s 23us/step - loss: 0.2202 - acc: 0.4705\n",
      "Epoch 73/100\n",
      "525/525 [==============================] - 0s 22us/step - loss: 0.2201 - acc: 0.4648\n",
      "Epoch 74/100\n",
      "525/525 [==============================] - 0s 30us/step - loss: 0.2201 - acc: 0.4705\n",
      "Epoch 75/100\n",
      "525/525 [==============================] - 0s 27us/step - loss: 0.2201 - acc: 0.4838\n",
      "Epoch 76/100\n",
      "525/525 [==============================] - 0s 27us/step - loss: 0.2200 - acc: 0.4819\n",
      "Epoch 77/100\n",
      "525/525 [==============================] - 0s 26us/step - loss: 0.2200 - acc: 0.4914\n",
      "Epoch 78/100\n",
      "525/525 [==============================] - 0s 26us/step - loss: 0.2200 - acc: 0.4590\n",
      "Epoch 79/100\n",
      "525/525 [==============================] - 0s 29us/step - loss: 0.2199 - acc: 0.4838\n",
      "Epoch 80/100\n",
      "525/525 [==============================] - 0s 28us/step - loss: 0.2199 - acc: 0.4362\n",
      "Epoch 81/100\n",
      "525/525 [==============================] - 0s 27us/step - loss: 0.2199 - acc: 0.4686\n",
      "Epoch 82/100\n",
      "525/525 [==============================] - 0s 24us/step - loss: 0.2198 - acc: 0.4457\n",
      "Epoch 83/100\n",
      "525/525 [==============================] - 0s 27us/step - loss: 0.2198 - acc: 0.3181\n",
      "Epoch 84/100\n"
     ]
    },
    {
     "name": "stdout",
     "output_type": "stream",
     "text": [
      "525/525 [==============================] - 0s 25us/step - loss: 0.2198 - acc: 0.3162\n",
      "Epoch 85/100\n",
      "525/525 [==============================] - 0s 25us/step - loss: 0.2197 - acc: 0.3257\n",
      "Epoch 86/100\n",
      "525/525 [==============================] - 0s 27us/step - loss: 0.2197 - acc: 0.4229\n",
      "Epoch 87/100\n",
      "525/525 [==============================] - 0s 23us/step - loss: 0.2197 - acc: 0.4171\n",
      "Epoch 88/100\n",
      "525/525 [==============================] - 0s 27us/step - loss: 0.2196 - acc: 0.4514\n",
      "Epoch 89/100\n",
      "525/525 [==============================] - 0s 24us/step - loss: 0.2196 - acc: 0.3829\n",
      "Epoch 90/100\n",
      "525/525 [==============================] - 0s 24us/step - loss: 0.2195 - acc: 0.3238\n",
      "Epoch 91/100\n",
      "525/525 [==============================] - 0s 27us/step - loss: 0.2195 - acc: 0.3352\n",
      "Epoch 92/100\n",
      "525/525 [==============================] - 0s 24us/step - loss: 0.2195 - acc: 0.3505\n",
      "Epoch 93/100\n",
      "525/525 [==============================] - 0s 28us/step - loss: 0.2195 - acc: 0.3771\n",
      "Epoch 94/100\n",
      "525/525 [==============================] - 0s 26us/step - loss: 0.2194 - acc: 0.3410\n",
      "Epoch 95/100\n",
      "525/525 [==============================] - 0s 28us/step - loss: 0.2194 - acc: 0.5105\n",
      "Epoch 96/100\n",
      "525/525 [==============================] - 0s 29us/step - loss: 0.2194 - acc: 0.3562\n",
      "Epoch 97/100\n",
      "525/525 [==============================] - 0s 26us/step - loss: 0.2193 - acc: 0.4533\n",
      "Epoch 98/100\n",
      "525/525 [==============================] - 0s 31us/step - loss: 0.2193 - acc: 0.4057\n",
      "Epoch 99/100\n",
      "525/525 [==============================] - 0s 30us/step - loss: 0.2193 - acc: 0.3543\n",
      "Epoch 100/100\n",
      "525/525 [==============================] - 0s 26us/step - loss: 0.2192 - acc: 0.3543\n"
     ]
    },
    {
     "data": {
      "text/plain": [
       "<keras.callbacks.History at 0x1b0375aef98>"
      ]
     },
     "execution_count": 338,
     "metadata": {},
     "output_type": "execute_result"
    }
   ],
   "source": [
    "y = pd.get_dummies(train['target'])\n",
    "model.fit(train.iloc[:, :-1], y, epochs=100, shuffle=True)"
   ]
  },
  {
   "cell_type": "code",
   "execution_count": 331,
   "metadata": {},
   "outputs": [],
   "source": [
    "p = model.predict_classes(train.iloc[:, :-1])"
   ]
  },
  {
   "cell_type": "code",
   "execution_count": 332,
   "metadata": {},
   "outputs": [
    {
     "data": {
      "text/plain": [
       "0.4438095238095238"
      ]
     },
     "execution_count": 332,
     "metadata": {},
     "output_type": "execute_result"
    }
   ],
   "source": [
    "accuracy_score(train['target'], p)"
   ]
  },
  {
   "cell_type": "code",
   "execution_count": 272,
   "metadata": {},
   "outputs": [],
   "source": [
    "from sklearn.metrics import accuracy_score"
   ]
  },
  {
   "cell_type": "code",
   "execution_count": null,
   "metadata": {},
   "outputs": [],
   "source": []
  }
 ],
 "metadata": {
  "kernelspec": {
   "display_name": "NN",
   "language": "python",
   "name": "nn"
  },
  "language_info": {
   "codemirror_mode": {
    "name": "ipython",
    "version": 3
   },
   "file_extension": ".py",
   "mimetype": "text/x-python",
   "name": "python",
   "nbconvert_exporter": "python",
   "pygments_lexer": "ipython3",
   "version": "3.6.7"
  }
 },
 "nbformat": 4,
 "nbformat_minor": 2
}
